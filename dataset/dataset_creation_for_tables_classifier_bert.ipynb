{
  "nbformat": 4,
  "nbformat_minor": 0,
  "metadata": {
    "colab": {
      "provenance": []
    },
    "kernelspec": {
      "name": "python3",
      "display_name": "Python 3"
    },
    "language_info": {
      "name": "python"
    }
  },
  "cells": [
    {
      "cell_type": "code",
      "execution_count": 1,
      "metadata": {
        "collapsed": true,
        "id": "mmgDCzoviFS3"
      },
      "outputs": [],
      "source": [
        "import csv\n",
        "import json\n",
        "\n",
        "with open('/content/filtered_tables_dataset_validated.json', 'r') as f:\n",
        "  data = json.load(f)\n",
        "\n",
        "\n",
        "\n"
      ]
    },
    {
      "cell_type": "markdown",
      "source": [
        "Todos: We can include comments in the table schema"
      ],
      "metadata": {
        "id": "WhHhXPZGpdI7"
      }
    },
    {
      "cell_type": "code",
      "source": [
        "from typing_extensions import dataclass_transform\n",
        "def create_prompt(raw_user_query, specified_table, specified_table_schema):\n",
        "    \"\"\"\n",
        "    Create a formatted prompt asking if a specified table (with schema) should be used\n",
        "    for generating a SQL query based on the raw user query and candidate tables.\n",
        "\n",
        "    Parameters:\n",
        "    - raw_user_query (str): The user's raw SQL query or question.\n",
        "    - specified_table_schema ( str): A list of table definitions (table name and schema)\n",
        "      that could be included in the SQL query.\n",
        "    - specified_table (str): The specific table definition (table name and schema) to check.\n",
        "\n",
        "    Returns:\n",
        "    - str: The formatted prompt.\n",
        "    \"\"\"\n",
        "\n",
        "    # Construct the prompt message\n",
        "    # prompt = (\n",
        "    #     f\"User is asking for a SQL query that performs the following task. UserQuery: '{raw_user_query}' \\n\"\n",
        "    #     f\"Question: Should the {specified_table} table be used to generate the SQL query that addresses the UserQuery? \\n\"\n",
        "    # )\n",
        "\n",
        "    single_line_sep_prompt = {\n",
        "        f\"{raw_user_query} [SEP] {specified_table}\"\n",
        "    }\n",
        "\n",
        "    return single_line_sep_prompt\n",
        "\n",
        "csv_rows = []\n",
        "\n",
        "for obj in data:\n",
        "    included_tables = set()\n",
        "    for included in obj[\"llm_filtered_tables\"].split(\",\"):\n",
        "        included = included.strip()\n",
        "        if included not in obj[\"rag_filtered_tables\"]:\n",
        "            print(\"Didnt found the table in the json obj\")\n",
        "            exit()\n",
        "        included_tables.add(included)\n",
        "\n",
        "    not_included_tables = list(set([key for key in obj[\"rag_filtered_tables\"]]) - included_tables)\n",
        "    included_tables = list(included_tables)\n",
        "    count_not_included_table_processes = 0\n",
        "\n",
        "    for table_name in obj['rag_filtered_tables']:\n",
        "        if table_name in included_tables:\n",
        "            lable = 1\n",
        "        else:\n",
        "            count_not_included_table_processes += 1\n",
        "            lable = 0\n",
        "\n",
        "        # Toggle this if statement to get the imbalanced dataset\n",
        "        if False and lable == 0 and count_not_included_table_processes  > len(included_tables):\n",
        "            pass\n",
        "        else:\n",
        "            specified_table_schema = obj['rag_filtered_tables'][table_name]['schema']\n",
        "            specified_table_schema = specified_table_schema.replace(\"\\n\", \" \")\n",
        "\n",
        "            prompt = create_prompt(obj['user_raw_query'], table_name, specified_table_schema)\n",
        "            csv_rows.append([prompt, lable])\n",
        "\n",
        "csv_file_path = \"single_line_sep_prompt_imbalanaced.csv\"\n",
        "\n",
        "with open(csv_file_path, mode=\"w\", newline=\"\", encoding=\"utf-8\") as file:\n",
        "    writer = csv.writer(file)\n",
        "    writer.writerow([\"Prompt\", \"Label\"])  # Header\n",
        "    writer.writerows(csv_rows)\n",
        "\n",
        "print(f\"CSV file saved at {csv_file_path}\")\n",
        "\n",
        "\n"
      ],
      "metadata": {
        "colab": {
          "base_uri": "https://localhost:8080/"
        },
        "collapsed": true,
        "id": "Y2WOhvDomr5S",
        "outputId": "0c8e54cc-b99e-488c-cfc9-232d192d0f83"
      },
      "execution_count": 10,
      "outputs": [
        {
          "output_type": "stream",
          "name": "stdout",
          "text": [
            "CSV file saved at single_line_sep_prompt_imbalanaced.csv\n"
          ]
        }
      ]
    },
    {
      "cell_type": "code",
      "source": [
        "# prompt: create a function which would add data to the csv file\n",
        "\n",
        "import csv\n",
        "\n",
        "def add_data_to_csv(file_path, data):\n",
        "    \"\"\"\n",
        "    Adds a row of data to a CSV file.\n",
        "\n",
        "    Args:\n",
        "        file_path (str): The path to the CSV file.\n",
        "        data (list): A list representing the row of data to add.\n",
        "    \"\"\"\n",
        "    try:\n",
        "        # Check if the file exists\n",
        "        with open(file_path, 'r') as file:\n",
        "            reader = csv.reader(file)\n",
        "            header = next(reader, None)  # Get the header row if it exists\n",
        "    except FileNotFoundError:\n",
        "        header = None\n",
        "\n",
        "    with open(file_path, 'a', newline='') as file:\n",
        "        writer = csv.writer(file)\n",
        "\n",
        "        # Write the header if the file is newly created\n",
        "        if header is None:\n",
        "            writer.writerow(['user_raw_query', 'table_name', 'schema', 'label'])  # Define the header row\n",
        "\n",
        "        writer.writerow(data)\n"
      ],
      "metadata": {
        "colab": {
          "base_uri": "https://localhost:8080/"
        },
        "id": "2O4vPuZ-nCiC",
        "outputId": "1caac877-fe58-441c-e85c-e4f4616b03a3"
      },
      "execution_count": null,
      "outputs": [
        {
          "output_type": "stream",
          "name": "stdout",
          "text": [
            "0\n"
          ]
        }
      ]
    },
    {
      "cell_type": "code",
      "source": [
        "import pandas as pd\n",
        "\n",
        "df = pd.read_csv('/content/single_line_sep_prompt_balanaced.csv')\n",
        "\n",
        "from collections import Counter\n",
        "\n",
        "freq = Counter(df['Label'])\n",
        "\n",
        "freq"
      ],
      "metadata": {
        "id": "LsodWMCysKKR",
        "colab": {
          "base_uri": "https://localhost:8080/"
        },
        "outputId": "568bb340-d2f1-420d-cc1c-be7ec347391d"
      },
      "execution_count": 9,
      "outputs": [
        {
          "output_type": "execute_result",
          "data": {
            "text/plain": [
              "Counter({1: 1427, 0: 1418})"
            ]
          },
          "metadata": {},
          "execution_count": 9
        }
      ]
    },
    {
      "cell_type": "code",
      "source": [],
      "metadata": {
        "id": "JSbg7ccCiCeq"
      },
      "execution_count": null,
      "outputs": []
    }
  ]
}